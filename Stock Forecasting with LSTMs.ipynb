{
 "cells": [
  {
   "metadata": {},
   "cell_type": "code",
   "source": "# Reference: Greg Hogg (YT) - https://www.youtube.com/watch?v=q_HS4s1L8UI&ab_channel=GregHogg",
   "id": "d6b5c4defc97ba86",
   "outputs": [],
   "execution_count": null
  },
  {
   "metadata": {
    "collapsed": true
   },
   "cell_type": "code",
   "source": "%pip install yfinance pandas matplotlib numpy",
   "id": "initial_id",
   "outputs": [],
   "execution_count": null
  },
  {
   "metadata": {},
   "cell_type": "code",
   "source": "%pip install torch sklearn",
   "id": "4ea016a5f647543d",
   "outputs": [],
   "execution_count": null
  },
  {
   "metadata": {
    "ExecuteTime": {
     "end_time": "2025-01-05T22:05:03.049118Z",
     "start_time": "2025-01-05T22:05:02.702830Z"
    }
   },
   "cell_type": "code",
   "source": [
    "import yfinance as yf\n",
    "import torch \n",
    "\n",
    "data = yf.Ticker(\"AMZN\").history(period=\"max\")\n",
    "device = 'cuda:0' if torch.cuda.is_available() else 'cpu'\n",
    "data"
   ],
   "id": "de43b27dc3c0116b",
   "outputs": [
    {
     "data": {
      "text/plain": [
       "                                 Open        High         Low       Close  \\\n",
       "Date                                                                        \n",
       "1997-05-15 00:00:00-04:00    0.121875    0.125000    0.096354    0.097917   \n",
       "1997-05-16 00:00:00-04:00    0.098438    0.098958    0.085417    0.086458   \n",
       "1997-05-19 00:00:00-04:00    0.088021    0.088542    0.081250    0.085417   \n",
       "1997-05-20 00:00:00-04:00    0.086458    0.087500    0.081771    0.081771   \n",
       "1997-05-21 00:00:00-04:00    0.081771    0.082292    0.068750    0.071354   \n",
       "...                               ...         ...         ...         ...   \n",
       "2024-12-27 00:00:00-05:00  225.600006  226.029999  220.899994  223.750000   \n",
       "2024-12-30 00:00:00-05:00  220.059998  223.000000  218.429993  221.300003   \n",
       "2024-12-31 00:00:00-05:00  222.970001  223.229996  218.940002  219.389999   \n",
       "2025-01-02 00:00:00-05:00  222.029999  225.149994  218.190002  220.220001   \n",
       "2025-01-03 00:00:00-05:00  222.509995  225.360001  221.619995  224.190002   \n",
       "\n",
       "                               Volume  Dividends  Stock Splits  \n",
       "Date                                                            \n",
       "1997-05-15 00:00:00-04:00  1443120000        0.0           0.0  \n",
       "1997-05-16 00:00:00-04:00   294000000        0.0           0.0  \n",
       "1997-05-19 00:00:00-04:00   122136000        0.0           0.0  \n",
       "1997-05-20 00:00:00-04:00   109344000        0.0           0.0  \n",
       "1997-05-21 00:00:00-04:00   377064000        0.0           0.0  \n",
       "...                               ...        ...           ...  \n",
       "2024-12-27 00:00:00-05:00    27367100        0.0           0.0  \n",
       "2024-12-30 00:00:00-05:00    28321200        0.0           0.0  \n",
       "2024-12-31 00:00:00-05:00    24819700        0.0           0.0  \n",
       "2025-01-02 00:00:00-05:00    33956600        0.0           0.0  \n",
       "2025-01-03 00:00:00-05:00    27485000        0.0           0.0  \n",
       "\n",
       "[6955 rows x 7 columns]"
      ],
      "text/html": [
       "<div>\n",
       "<style scoped>\n",
       "    .dataframe tbody tr th:only-of-type {\n",
       "        vertical-align: middle;\n",
       "    }\n",
       "\n",
       "    .dataframe tbody tr th {\n",
       "        vertical-align: top;\n",
       "    }\n",
       "\n",
       "    .dataframe thead th {\n",
       "        text-align: right;\n",
       "    }\n",
       "</style>\n",
       "<table border=\"1\" class=\"dataframe\">\n",
       "  <thead>\n",
       "    <tr style=\"text-align: right;\">\n",
       "      <th></th>\n",
       "      <th>Open</th>\n",
       "      <th>High</th>\n",
       "      <th>Low</th>\n",
       "      <th>Close</th>\n",
       "      <th>Volume</th>\n",
       "      <th>Dividends</th>\n",
       "      <th>Stock Splits</th>\n",
       "    </tr>\n",
       "    <tr>\n",
       "      <th>Date</th>\n",
       "      <th></th>\n",
       "      <th></th>\n",
       "      <th></th>\n",
       "      <th></th>\n",
       "      <th></th>\n",
       "      <th></th>\n",
       "      <th></th>\n",
       "    </tr>\n",
       "  </thead>\n",
       "  <tbody>\n",
       "    <tr>\n",
       "      <th>1997-05-15 00:00:00-04:00</th>\n",
       "      <td>0.121875</td>\n",
       "      <td>0.125000</td>\n",
       "      <td>0.096354</td>\n",
       "      <td>0.097917</td>\n",
       "      <td>1443120000</td>\n",
       "      <td>0.0</td>\n",
       "      <td>0.0</td>\n",
       "    </tr>\n",
       "    <tr>\n",
       "      <th>1997-05-16 00:00:00-04:00</th>\n",
       "      <td>0.098438</td>\n",
       "      <td>0.098958</td>\n",
       "      <td>0.085417</td>\n",
       "      <td>0.086458</td>\n",
       "      <td>294000000</td>\n",
       "      <td>0.0</td>\n",
       "      <td>0.0</td>\n",
       "    </tr>\n",
       "    <tr>\n",
       "      <th>1997-05-19 00:00:00-04:00</th>\n",
       "      <td>0.088021</td>\n",
       "      <td>0.088542</td>\n",
       "      <td>0.081250</td>\n",
       "      <td>0.085417</td>\n",
       "      <td>122136000</td>\n",
       "      <td>0.0</td>\n",
       "      <td>0.0</td>\n",
       "    </tr>\n",
       "    <tr>\n",
       "      <th>1997-05-20 00:00:00-04:00</th>\n",
       "      <td>0.086458</td>\n",
       "      <td>0.087500</td>\n",
       "      <td>0.081771</td>\n",
       "      <td>0.081771</td>\n",
       "      <td>109344000</td>\n",
       "      <td>0.0</td>\n",
       "      <td>0.0</td>\n",
       "    </tr>\n",
       "    <tr>\n",
       "      <th>1997-05-21 00:00:00-04:00</th>\n",
       "      <td>0.081771</td>\n",
       "      <td>0.082292</td>\n",
       "      <td>0.068750</td>\n",
       "      <td>0.071354</td>\n",
       "      <td>377064000</td>\n",
       "      <td>0.0</td>\n",
       "      <td>0.0</td>\n",
       "    </tr>\n",
       "    <tr>\n",
       "      <th>...</th>\n",
       "      <td>...</td>\n",
       "      <td>...</td>\n",
       "      <td>...</td>\n",
       "      <td>...</td>\n",
       "      <td>...</td>\n",
       "      <td>...</td>\n",
       "      <td>...</td>\n",
       "    </tr>\n",
       "    <tr>\n",
       "      <th>2024-12-27 00:00:00-05:00</th>\n",
       "      <td>225.600006</td>\n",
       "      <td>226.029999</td>\n",
       "      <td>220.899994</td>\n",
       "      <td>223.750000</td>\n",
       "      <td>27367100</td>\n",
       "      <td>0.0</td>\n",
       "      <td>0.0</td>\n",
       "    </tr>\n",
       "    <tr>\n",
       "      <th>2024-12-30 00:00:00-05:00</th>\n",
       "      <td>220.059998</td>\n",
       "      <td>223.000000</td>\n",
       "      <td>218.429993</td>\n",
       "      <td>221.300003</td>\n",
       "      <td>28321200</td>\n",
       "      <td>0.0</td>\n",
       "      <td>0.0</td>\n",
       "    </tr>\n",
       "    <tr>\n",
       "      <th>2024-12-31 00:00:00-05:00</th>\n",
       "      <td>222.970001</td>\n",
       "      <td>223.229996</td>\n",
       "      <td>218.940002</td>\n",
       "      <td>219.389999</td>\n",
       "      <td>24819700</td>\n",
       "      <td>0.0</td>\n",
       "      <td>0.0</td>\n",
       "    </tr>\n",
       "    <tr>\n",
       "      <th>2025-01-02 00:00:00-05:00</th>\n",
       "      <td>222.029999</td>\n",
       "      <td>225.149994</td>\n",
       "      <td>218.190002</td>\n",
       "      <td>220.220001</td>\n",
       "      <td>33956600</td>\n",
       "      <td>0.0</td>\n",
       "      <td>0.0</td>\n",
       "    </tr>\n",
       "    <tr>\n",
       "      <th>2025-01-03 00:00:00-05:00</th>\n",
       "      <td>222.509995</td>\n",
       "      <td>225.360001</td>\n",
       "      <td>221.619995</td>\n",
       "      <td>224.190002</td>\n",
       "      <td>27485000</td>\n",
       "      <td>0.0</td>\n",
       "      <td>0.0</td>\n",
       "    </tr>\n",
       "  </tbody>\n",
       "</table>\n",
       "<p>6955 rows × 7 columns</p>\n",
       "</div>"
      ]
     },
     "execution_count": 38,
     "metadata": {},
     "output_type": "execute_result"
    }
   ],
   "execution_count": 38
  },
  {
   "metadata": {
    "ExecuteTime": {
     "end_time": "2025-01-05T22:05:04.820829Z",
     "start_time": "2025-01-05T22:05:04.802198Z"
    }
   },
   "cell_type": "code",
   "source": [
    "from copy import deepcopy\n",
    "\n",
    "def prepare_dataframe_for_lstm(dataframe, n):\n",
    "    df = deepcopy(dataframe)\n",
    "    \n",
    "    for i in range(1, n+1):\n",
    "        df[f'Close(t-{i})'] = df['Close'].shift(i)\n",
    "\n",
    "    # Drop all rows with 'na' elements (First n dates)\n",
    "    df.dropna(inplace=True)\n",
    "    \n",
    "    return df\n",
    "\n",
    "# Pass in stock dataframe with only 'Close' column\n",
    "n = 7\n",
    "shifted_df = prepare_dataframe_for_lstm(data[['Close']], 7)\n",
    "shifted_df"
   ],
   "id": "b5c317c43647594e",
   "outputs": [
    {
     "data": {
      "text/plain": [
       "                                Close  Close(t-1)  Close(t-2)  Close(t-3)  \\\n",
       "Date                                                                        \n",
       "1997-05-27 00:00:00-04:00    0.079167    0.075000    0.069792    0.071354   \n",
       "1997-05-28 00:00:00-04:00    0.076563    0.079167    0.075000    0.069792   \n",
       "1997-05-29 00:00:00-04:00    0.075260    0.076563    0.079167    0.075000   \n",
       "1997-05-30 00:00:00-04:00    0.075000    0.075260    0.076563    0.079167   \n",
       "1997-06-02 00:00:00-04:00    0.075521    0.075000    0.075260    0.076563   \n",
       "...                               ...         ...         ...         ...   \n",
       "2024-12-27 00:00:00-05:00  223.750000  227.050003  229.050003  225.059998   \n",
       "2024-12-30 00:00:00-05:00  221.300003  223.750000  227.050003  229.050003   \n",
       "2024-12-31 00:00:00-05:00  219.389999  221.300003  223.750000  227.050003   \n",
       "2025-01-02 00:00:00-05:00  220.220001  219.389999  221.300003  223.750000   \n",
       "2025-01-03 00:00:00-05:00  224.190002  220.220001  219.389999  221.300003   \n",
       "\n",
       "                           Close(t-4)  Close(t-5)  Close(t-6)  Close(t-7)  \n",
       "Date                                                                       \n",
       "1997-05-27 00:00:00-04:00    0.081771    0.085417    0.086458    0.097917  \n",
       "1997-05-28 00:00:00-04:00    0.071354    0.081771    0.085417    0.086458  \n",
       "1997-05-29 00:00:00-04:00    0.069792    0.071354    0.081771    0.085417  \n",
       "1997-05-30 00:00:00-04:00    0.075000    0.069792    0.071354    0.081771  \n",
       "1997-06-02 00:00:00-04:00    0.079167    0.075000    0.069792    0.071354  \n",
       "...                               ...         ...         ...         ...  \n",
       "2024-12-27 00:00:00-05:00  224.919998  223.289993  220.520004  231.149994  \n",
       "2024-12-30 00:00:00-05:00  225.059998  224.919998  223.289993  220.520004  \n",
       "2024-12-31 00:00:00-05:00  229.050003  225.059998  224.919998  223.289993  \n",
       "2025-01-02 00:00:00-05:00  227.050003  229.050003  225.059998  224.919998  \n",
       "2025-01-03 00:00:00-05:00  223.750000  227.050003  229.050003  225.059998  \n",
       "\n",
       "[6948 rows x 8 columns]"
      ],
      "text/html": [
       "<div>\n",
       "<style scoped>\n",
       "    .dataframe tbody tr th:only-of-type {\n",
       "        vertical-align: middle;\n",
       "    }\n",
       "\n",
       "    .dataframe tbody tr th {\n",
       "        vertical-align: top;\n",
       "    }\n",
       "\n",
       "    .dataframe thead th {\n",
       "        text-align: right;\n",
       "    }\n",
       "</style>\n",
       "<table border=\"1\" class=\"dataframe\">\n",
       "  <thead>\n",
       "    <tr style=\"text-align: right;\">\n",
       "      <th></th>\n",
       "      <th>Close</th>\n",
       "      <th>Close(t-1)</th>\n",
       "      <th>Close(t-2)</th>\n",
       "      <th>Close(t-3)</th>\n",
       "      <th>Close(t-4)</th>\n",
       "      <th>Close(t-5)</th>\n",
       "      <th>Close(t-6)</th>\n",
       "      <th>Close(t-7)</th>\n",
       "    </tr>\n",
       "    <tr>\n",
       "      <th>Date</th>\n",
       "      <th></th>\n",
       "      <th></th>\n",
       "      <th></th>\n",
       "      <th></th>\n",
       "      <th></th>\n",
       "      <th></th>\n",
       "      <th></th>\n",
       "      <th></th>\n",
       "    </tr>\n",
       "  </thead>\n",
       "  <tbody>\n",
       "    <tr>\n",
       "      <th>1997-05-27 00:00:00-04:00</th>\n",
       "      <td>0.079167</td>\n",
       "      <td>0.075000</td>\n",
       "      <td>0.069792</td>\n",
       "      <td>0.071354</td>\n",
       "      <td>0.081771</td>\n",
       "      <td>0.085417</td>\n",
       "      <td>0.086458</td>\n",
       "      <td>0.097917</td>\n",
       "    </tr>\n",
       "    <tr>\n",
       "      <th>1997-05-28 00:00:00-04:00</th>\n",
       "      <td>0.076563</td>\n",
       "      <td>0.079167</td>\n",
       "      <td>0.075000</td>\n",
       "      <td>0.069792</td>\n",
       "      <td>0.071354</td>\n",
       "      <td>0.081771</td>\n",
       "      <td>0.085417</td>\n",
       "      <td>0.086458</td>\n",
       "    </tr>\n",
       "    <tr>\n",
       "      <th>1997-05-29 00:00:00-04:00</th>\n",
       "      <td>0.075260</td>\n",
       "      <td>0.076563</td>\n",
       "      <td>0.079167</td>\n",
       "      <td>0.075000</td>\n",
       "      <td>0.069792</td>\n",
       "      <td>0.071354</td>\n",
       "      <td>0.081771</td>\n",
       "      <td>0.085417</td>\n",
       "    </tr>\n",
       "    <tr>\n",
       "      <th>1997-05-30 00:00:00-04:00</th>\n",
       "      <td>0.075000</td>\n",
       "      <td>0.075260</td>\n",
       "      <td>0.076563</td>\n",
       "      <td>0.079167</td>\n",
       "      <td>0.075000</td>\n",
       "      <td>0.069792</td>\n",
       "      <td>0.071354</td>\n",
       "      <td>0.081771</td>\n",
       "    </tr>\n",
       "    <tr>\n",
       "      <th>1997-06-02 00:00:00-04:00</th>\n",
       "      <td>0.075521</td>\n",
       "      <td>0.075000</td>\n",
       "      <td>0.075260</td>\n",
       "      <td>0.076563</td>\n",
       "      <td>0.079167</td>\n",
       "      <td>0.075000</td>\n",
       "      <td>0.069792</td>\n",
       "      <td>0.071354</td>\n",
       "    </tr>\n",
       "    <tr>\n",
       "      <th>...</th>\n",
       "      <td>...</td>\n",
       "      <td>...</td>\n",
       "      <td>...</td>\n",
       "      <td>...</td>\n",
       "      <td>...</td>\n",
       "      <td>...</td>\n",
       "      <td>...</td>\n",
       "      <td>...</td>\n",
       "    </tr>\n",
       "    <tr>\n",
       "      <th>2024-12-27 00:00:00-05:00</th>\n",
       "      <td>223.750000</td>\n",
       "      <td>227.050003</td>\n",
       "      <td>229.050003</td>\n",
       "      <td>225.059998</td>\n",
       "      <td>224.919998</td>\n",
       "      <td>223.289993</td>\n",
       "      <td>220.520004</td>\n",
       "      <td>231.149994</td>\n",
       "    </tr>\n",
       "    <tr>\n",
       "      <th>2024-12-30 00:00:00-05:00</th>\n",
       "      <td>221.300003</td>\n",
       "      <td>223.750000</td>\n",
       "      <td>227.050003</td>\n",
       "      <td>229.050003</td>\n",
       "      <td>225.059998</td>\n",
       "      <td>224.919998</td>\n",
       "      <td>223.289993</td>\n",
       "      <td>220.520004</td>\n",
       "    </tr>\n",
       "    <tr>\n",
       "      <th>2024-12-31 00:00:00-05:00</th>\n",
       "      <td>219.389999</td>\n",
       "      <td>221.300003</td>\n",
       "      <td>223.750000</td>\n",
       "      <td>227.050003</td>\n",
       "      <td>229.050003</td>\n",
       "      <td>225.059998</td>\n",
       "      <td>224.919998</td>\n",
       "      <td>223.289993</td>\n",
       "    </tr>\n",
       "    <tr>\n",
       "      <th>2025-01-02 00:00:00-05:00</th>\n",
       "      <td>220.220001</td>\n",
       "      <td>219.389999</td>\n",
       "      <td>221.300003</td>\n",
       "      <td>223.750000</td>\n",
       "      <td>227.050003</td>\n",
       "      <td>229.050003</td>\n",
       "      <td>225.059998</td>\n",
       "      <td>224.919998</td>\n",
       "    </tr>\n",
       "    <tr>\n",
       "      <th>2025-01-03 00:00:00-05:00</th>\n",
       "      <td>224.190002</td>\n",
       "      <td>220.220001</td>\n",
       "      <td>219.389999</td>\n",
       "      <td>221.300003</td>\n",
       "      <td>223.750000</td>\n",
       "      <td>227.050003</td>\n",
       "      <td>229.050003</td>\n",
       "      <td>225.059998</td>\n",
       "    </tr>\n",
       "  </tbody>\n",
       "</table>\n",
       "<p>6948 rows × 8 columns</p>\n",
       "</div>"
      ]
     },
     "execution_count": 39,
     "metadata": {},
     "output_type": "execute_result"
    }
   ],
   "execution_count": 39
  },
  {
   "metadata": {
    "ExecuteTime": {
     "end_time": "2025-01-05T22:05:07.767273Z",
     "start_time": "2025-01-05T22:05:07.761276Z"
    }
   },
   "cell_type": "code",
   "source": [
    "# Convert dataframe to numpy array for training\n",
    "shifted_df_as_np = shifted_df.to_numpy()\n",
    "shifted_df_as_np"
   ],
   "id": "f5ff96f4f4e21d60",
   "outputs": [
    {
     "data": {
      "text/plain": [
       "array([[7.91670009e-02, 7.50000030e-02, 6.97920024e-02, ...,\n",
       "        8.54170024e-02, 8.64579976e-02, 9.79169980e-02],\n",
       "       [7.65630007e-02, 7.91670009e-02, 7.50000030e-02, ...,\n",
       "        8.17710012e-02, 8.54170024e-02, 8.64579976e-02],\n",
       "       [7.52599984e-02, 7.65630007e-02, 7.91670009e-02, ...,\n",
       "        7.13540018e-02, 8.17710012e-02, 8.54170024e-02],\n",
       "       ...,\n",
       "       [2.19389999e+02, 2.21300003e+02, 2.23750000e+02, ...,\n",
       "        2.25059998e+02, 2.24919998e+02, 2.23289993e+02],\n",
       "       [2.20220001e+02, 2.19389999e+02, 2.21300003e+02, ...,\n",
       "        2.29050003e+02, 2.25059998e+02, 2.24919998e+02],\n",
       "       [2.24190002e+02, 2.20220001e+02, 2.19389999e+02, ...,\n",
       "        2.27050003e+02, 2.29050003e+02, 2.25059998e+02]])"
      ]
     },
     "execution_count": 40,
     "metadata": {},
     "output_type": "execute_result"
    }
   ],
   "execution_count": 40
  },
  {
   "metadata": {
    "ExecuteTime": {
     "end_time": "2025-01-05T22:05:09.394706Z",
     "start_time": "2025-01-05T22:05:09.386590Z"
    }
   },
   "cell_type": "code",
   "source": [
    "from sklearn.preprocessing import MinMaxScaler\n",
    "\n",
    "# Normalizing the data using sklearn's MinMaxScaler\n",
    "scaler = MinMaxScaler(feature_range=(-1,1))\n",
    "shifted_df_as_np = scaler.fit_transform(shifted_df_as_np)\n",
    "\n",
    "shifted_df_as_np"
   ],
   "id": "f703155684415752",
   "outputs": [
    {
     "data": {
      "text/plain": [
       "array([[-0.99992842, -0.99996421, -1.        , ..., -0.9998658 ,\n",
       "        -0.99985686, -0.99975844],\n",
       "       [-0.99995079, -0.99992842, -0.99995527, ..., -0.99989711,\n",
       "        -0.9998658 , -0.99985686],\n",
       "       [-0.99996198, -0.99995079, -0.99991948, ..., -0.99998658,\n",
       "        -0.99989711, -0.9998658 ],\n",
       "       ...,\n",
       "       [ 0.88370659,  0.90011138,  0.92115447, ...,  0.93240584,\n",
       "         0.9312034 ,  0.91720355],\n",
       "       [ 0.89083537,  0.88370659,  0.90011183, ...,  0.96667537,\n",
       "         0.93240584,  0.9312034 ],\n",
       "       [ 0.92493325,  0.89083537,  0.88370711, ...,  0.94949768,\n",
       "         0.96667537,  0.93240584]])"
      ]
     },
     "execution_count": 41,
     "metadata": {},
     "output_type": "execute_result"
    }
   ],
   "execution_count": 41
  },
  {
   "metadata": {
    "ExecuteTime": {
     "end_time": "2025-01-05T22:05:11.166513Z",
     "start_time": "2025-01-05T22:05:11.160650Z"
    }
   },
   "cell_type": "code",
   "source": [
    "import numpy as np\n",
    "\n",
    "x = shifted_df_as_np[:, 1:] # Previous closes as input\n",
    "x = deepcopy(np.flip(x, axis=1)) # Flip x horizontally so older data is processed first\n",
    "y = shifted_df_as_np[:, 0]  # Current close as output\n",
    "\n",
    "x.shape, y.shape"
   ],
   "id": "a8c024062cd7fb39",
   "outputs": [
    {
     "data": {
      "text/plain": [
       "((6948, 7), (6948,))"
      ]
     },
     "execution_count": 42,
     "metadata": {},
     "output_type": "execute_result"
    }
   ],
   "execution_count": 42
  },
  {
   "metadata": {
    "ExecuteTime": {
     "end_time": "2025-01-05T22:05:12.733707Z",
     "start_time": "2025-01-05T22:05:12.726730Z"
    }
   },
   "cell_type": "code",
   "source": [
    "split_index = int(len(x) * 0.95)\n",
    "\n",
    "split_index"
   ],
   "id": "a76b47d117f1b738",
   "outputs": [
    {
     "data": {
      "text/plain": [
       "6600"
      ]
     },
     "execution_count": 43,
     "metadata": {},
     "output_type": "execute_result"
    }
   ],
   "execution_count": 43
  },
  {
   "metadata": {
    "ExecuteTime": {
     "end_time": "2025-01-05T22:27:14.509802Z",
     "start_time": "2025-01-05T22:27:14.505110Z"
    }
   },
   "cell_type": "code",
   "source": [
    "# Split data into training and tests splits\n",
    "\n",
    "x_train = x[:split_index]\n",
    "y_train = y[:split_index]\n",
    "\n",
    "x_test = x[split_index:]\n",
    "y_test = y[split_index:]\n",
    "\n",
    "x_train.shape, x_test.shape, y_train.shape, y_test.shape"
   ],
   "id": "ab5ffd786274cc09",
   "outputs": [
    {
     "data": {
      "text/plain": [
       "((6600, 7), (348, 7), (6600,), (348,))"
      ]
     },
     "execution_count": 61,
     "metadata": {},
     "output_type": "execute_result"
    }
   ],
   "execution_count": 61
  },
  {
   "metadata": {
    "ExecuteTime": {
     "end_time": "2025-01-05T22:27:16.297567Z",
     "start_time": "2025-01-05T22:27:16.289976Z"
    }
   },
   "cell_type": "code",
   "source": [
    "# Reshape splits for TensorFlow processing\n",
    "\n",
    "# Add third dimension to x splits for number of features per time step\n",
    "# Add second dimension to y splits for number of target values per time step\n",
    "\n",
    "x_train = x_train.reshape((-1, n, 1))\n",
    "x_test = x_test.reshape((-1, n, 1))\n",
    "\n",
    "y_train = y_train.reshape((-1, 1))\n",
    "y_test = y_test.reshape((-1, 1))\n",
    "\n",
    "x_train.shape, x_test.shape, y_train.shape, y_test.shape"
   ],
   "id": "4c010991a5e33cb2",
   "outputs": [
    {
     "data": {
      "text/plain": [
       "((6600, 7, 1), (348, 7, 1), (6600, 1), (348, 1))"
      ]
     },
     "execution_count": 62,
     "metadata": {},
     "output_type": "execute_result"
    }
   ],
   "execution_count": 62
  },
  {
   "metadata": {
    "ExecuteTime": {
     "end_time": "2025-01-05T22:27:17.929466Z",
     "start_time": "2025-01-05T22:27:17.924964Z"
    }
   },
   "cell_type": "code",
   "source": [
    "# Wrap numpy arrays in PyTorch tensors \n",
    "\n",
    "x_train = torch.tensor(x_train).float()\n",
    "y_train = torch.tensor(y_train).float()\n",
    "x_test = torch.tensor(x_test).float()\n",
    "y_test = torch.tensor(y_test).float()\n",
    "\n",
    "x_train.shape, x_test.shape, y_train.shape, y_test.shape"
   ],
   "id": "476d9ec143498f96",
   "outputs": [
    {
     "data": {
      "text/plain": [
       "(torch.Size([6600, 7, 1]),\n",
       " torch.Size([348, 7, 1]),\n",
       " torch.Size([6600, 1]),\n",
       " torch.Size([348, 1]))"
      ]
     },
     "execution_count": 63,
     "metadata": {},
     "output_type": "execute_result"
    }
   ],
   "execution_count": 63
  },
  {
   "metadata": {
    "ExecuteTime": {
     "end_time": "2025-01-05T22:05:17.752872Z",
     "start_time": "2025-01-05T22:05:17.749736Z"
    }
   },
   "cell_type": "code",
   "source": [
    "from torch.utils.data import Dataset\n",
    "\n",
    "# Create custom dataset from inherited PyTorch Dataset class for our data\n",
    "\n",
    "class TimeSeriesDataset(Dataset):\n",
    "    def __init__(self, x, y):\n",
    "        self.x = x\n",
    "        self.y = y\n",
    "\n",
    "    def __len__(self):\n",
    "        return len(self.x)\n",
    "\n",
    "    def __getitem__(self, i):\n",
    "        return self.x[i], self.y[i]\n",
    "\n",
    "# Create our training and testing datasets \n",
    "train_dataset = TimeSeriesDataset(x_train, y_train)\n",
    "test_dataset = TimeSeriesDataset(x_test, y_test)"
   ],
   "id": "a3aca1707632ac74",
   "outputs": [],
   "execution_count": 47
  },
  {
   "metadata": {
    "ExecuteTime": {
     "end_time": "2025-01-05T22:05:19.489764Z",
     "start_time": "2025-01-05T22:05:19.485309Z"
    }
   },
   "cell_type": "code",
   "source": [
    "from torch.utils.data import DataLoader\n",
    "\n",
    "batch_size = 16\n",
    "\n",
    "# Create our training and testing DataLoaders\n",
    "train_loader = DataLoader(train_dataset, batch_size=batch_size, shuffle=True)\n",
    "test_loader = DataLoader(test_dataset, batch_size=batch_size, shuffle=False)"
   ],
   "id": "b83dea692bfe4b4c",
   "outputs": [],
   "execution_count": 48
  },
  {
   "metadata": {
    "ExecuteTime": {
     "end_time": "2025-01-05T22:05:20.617278Z",
     "start_time": "2025-01-05T22:05:20.608668Z"
    }
   },
   "cell_type": "code",
   "source": [
    "import torch.nn as nn\n",
    "\n",
    "# Custom LSTM neural network class \n",
    "class LSTM(nn.Module):\n",
    "    def __init__(self, input_size, hidden_size, num_stacked_layers):\n",
    "        super().__init__()\n",
    "        self.hidden_size = hidden_size\n",
    "        self.num_stacked_layers = num_stacked_layers\n",
    "\n",
    "        self.lstm = nn.LSTM(input_size, hidden_size, num_stacked_layers,\n",
    "                            batch_first=True)\n",
    "\n",
    "        self.fc = nn.Linear(hidden_size, 1)\n",
    "\n",
    "    def forward(self, x):\n",
    "        batch_size = x.size(0)\n",
    "        h0 = torch.zeros(self.num_stacked_layers, batch_size, self.hidden_size).to(device)\n",
    "        c0 = torch.zeros(self.num_stacked_layers, batch_size, self.hidden_size).to(device)\n",
    "\n",
    "        out, _ = self.lstm(x, (h0, c0))\n",
    "        out = self.fc(out[:, -1, :])\n",
    "        return out\n",
    "\n",
    "model = LSTM(1, 4, 1)\n",
    "model.to(device)\n",
    "model"
   ],
   "id": "e281e65cf300b1fe",
   "outputs": [
    {
     "data": {
      "text/plain": [
       "LSTM(\n",
       "  (lstm): LSTM(1, 4, batch_first=True)\n",
       "  (fc): Linear(in_features=4, out_features=1, bias=True)\n",
       ")"
      ]
     },
     "execution_count": 49,
     "metadata": {},
     "output_type": "execute_result"
    }
   ],
   "execution_count": 49
  },
  {
   "metadata": {
    "ExecuteTime": {
     "end_time": "2025-01-05T22:23:48.622344Z",
     "start_time": "2025-01-05T22:23:48.616514Z"
    }
   },
   "cell_type": "code",
   "source": [
    "def train_one_epoch(model, epoch, train_loader, loss_function, optimizer):\n",
    "    model.train(True)\n",
    "    print(f'Epoch: {epoch + 1}')\n",
    "    running_loss = 0.0\n",
    "\n",
    "    for batch_index, batch in enumerate(train_loader):\n",
    "        x_batch, y_batch = batch[0].to(device), batch[1].to(device)\n",
    "\n",
    "        output = model(x_batch)\n",
    "        loss = loss_function(output, y_batch)\n",
    "        running_loss += loss.item()\n",
    "\n",
    "        optimizer.zero_grad()\n",
    "        loss.backward()\n",
    "        optimizer.step()\n",
    "\n",
    "        if batch_index % 100 == 99:  # print every 100 batches\n",
    "            avg_loss_across_batches = running_loss / 100\n",
    "            print('Batch {0}, Loss: {1:.3f}'.format(batch_index+1,\n",
    "                                                    avg_loss_across_batches))\n",
    "            running_loss = 0.0\n",
    "    print()"
   ],
   "id": "e39b842c2611f597",
   "outputs": [],
   "execution_count": 54
  },
  {
   "metadata": {
    "ExecuteTime": {
     "end_time": "2025-01-05T22:23:52.391079Z",
     "start_time": "2025-01-05T22:23:52.386093Z"
    }
   },
   "cell_type": "code",
   "source": [
    "def validate_one_epoch(model, test_loader):\n",
    "    model.train(False)\n",
    "    running_loss = 0.0\n",
    "\n",
    "    for batch_index, batch in enumerate(test_loader):\n",
    "        x_batch, y_batch = batch[0].to(device), batch[1].to(device)\n",
    "\n",
    "        with torch.no_grad():\n",
    "            output = model(x_batch)\n",
    "            loss = loss_function(output, y_batch)\n",
    "            running_loss += loss.item()\n",
    "\n",
    "    avg_loss_across_batches = running_loss / len(test_loader)\n",
    "\n",
    "    print('Val Loss: {0:.3f}'.format(avg_loss_across_batches))\n",
    "    print('***************************************************')\n",
    "    print()"
   ],
   "id": "4249d3eafc874837",
   "outputs": [],
   "execution_count": 55
  },
  {
   "metadata": {
    "ExecuteTime": {
     "end_time": "2025-01-05T22:24:01.837674Z",
     "start_time": "2025-01-05T22:23:54.179002Z"
    }
   },
   "cell_type": "code",
   "source": [
    "learning_rate = 0.001\n",
    "num_epochs = 10\n",
    "loss_function = nn.MSELoss()\n",
    "optimizer = torch.optim.Adam(model.parameters(), lr=learning_rate)\n",
    "\n",
    "for epoch in range(num_epochs):\n",
    "    train_one_epoch(model, epoch, train_loader, loss_function, optimizer)\n",
    "    validate_one_epoch(model, test_loader)"
   ],
   "id": "44ac192293dac668",
   "outputs": [
    {
     "name": "stdout",
     "output_type": "stream",
     "text": [
      "Epoch: 1\n",
      "Batch 100, Loss: 0.240\n",
      "Batch 200, Loss: 0.090\n",
      "Batch 300, Loss: 0.032\n",
      "Batch 400, Loss: 0.006\n",
      "\n",
      "Val Loss: 0.117\n",
      "***************************************************\n",
      "\n",
      "Epoch: 2\n",
      "Batch 100, Loss: 0.004\n",
      "Batch 200, Loss: 0.004\n",
      "Batch 300, Loss: 0.003\n",
      "Batch 400, Loss: 0.003\n",
      "\n",
      "Val Loss: 0.061\n",
      "***************************************************\n",
      "\n",
      "Epoch: 3\n",
      "Batch 100, Loss: 0.002\n",
      "Batch 200, Loss: 0.002\n",
      "Batch 300, Loss: 0.002\n",
      "Batch 400, Loss: 0.001\n",
      "\n",
      "Val Loss: 0.042\n",
      "***************************************************\n",
      "\n",
      "Epoch: 4\n",
      "Batch 100, Loss: 0.001\n",
      "Batch 200, Loss: 0.001\n",
      "Batch 300, Loss: 0.001\n",
      "Batch 400, Loss: 0.001\n",
      "\n",
      "Val Loss: 0.028\n",
      "***************************************************\n",
      "\n",
      "Epoch: 5\n",
      "Batch 100, Loss: 0.001\n",
      "Batch 200, Loss: 0.001\n",
      "Batch 300, Loss: 0.001\n",
      "Batch 400, Loss: 0.000\n",
      "\n",
      "Val Loss: 0.019\n",
      "***************************************************\n",
      "\n",
      "Epoch: 6\n",
      "Batch 100, Loss: 0.000\n",
      "Batch 200, Loss: 0.000\n",
      "Batch 300, Loss: 0.000\n",
      "Batch 400, Loss: 0.000\n",
      "\n",
      "Val Loss: 0.015\n",
      "***************************************************\n",
      "\n",
      "Epoch: 7\n",
      "Batch 100, Loss: 0.000\n",
      "Batch 200, Loss: 0.000\n",
      "Batch 300, Loss: 0.000\n",
      "Batch 400, Loss: 0.000\n",
      "\n",
      "Val Loss: 0.012\n",
      "***************************************************\n",
      "\n",
      "Epoch: 8\n",
      "Batch 100, Loss: 0.000\n",
      "Batch 200, Loss: 0.000\n",
      "Batch 300, Loss: 0.000\n",
      "Batch 400, Loss: 0.000\n",
      "\n",
      "Val Loss: 0.011\n",
      "***************************************************\n",
      "\n",
      "Epoch: 9\n",
      "Batch 100, Loss: 0.000\n",
      "Batch 200, Loss: 0.000\n",
      "Batch 300, Loss: 0.000\n",
      "Batch 400, Loss: 0.000\n",
      "\n",
      "Val Loss: 0.009\n",
      "***************************************************\n",
      "\n",
      "Epoch: 10\n",
      "Batch 100, Loss: 0.000\n",
      "Batch 200, Loss: 0.000\n",
      "Batch 300, Loss: 0.000\n",
      "Batch 400, Loss: 0.000\n",
      "\n",
      "Val Loss: 0.008\n",
      "***************************************************\n",
      "\n"
     ]
    }
   ],
   "execution_count": 56
  },
  {
   "metadata": {
    "ExecuteTime": {
     "end_time": "2025-01-05T22:27:51.689630Z",
     "start_time": "2025-01-05T22:27:51.055790Z"
    }
   },
   "cell_type": "code",
   "source": [
    "import matplotlib.pyplot as plt \n",
    "\n",
    "with torch.no_grad():\n",
    "    predicted = model(x_train.to(device)).to('cpu').numpy()\n",
    "\n",
    "plt.plot(y_train, label='Actual Close')\n",
    "plt.plot(predicted, label='Predicted Close')\n",
    "plt.xlabel('Day')\n",
    "plt.ylabel('Close')\n",
    "plt.legend()\n",
    "plt.show()\n"
   ],
   "id": "62a30689bebebf3b",
   "outputs": [
    {
     "data": {
      "text/plain": [
       "<Figure size 640x480 with 1 Axes>"
      ],
      "image/png": "[encoded data removed]"
     },
     "metadata": {},
     "output_type": "display_data"
    }
   ],
   "execution_count": 65
  },
  {
   "metadata": {
    "ExecuteTime": {
     "end_time": "2025-01-05T22:29:43.691838Z",
     "start_time": "2025-01-05T22:29:43.686913Z"
    }
   },
   "cell_type": "code",
   "source": [
    "train_predictions = predicted.flatten()\n",
    "\n",
    "dummies = np.zeros((x_train.shape[0], n+1))\n",
    "dummies[:, 0] = train_predictions\n",
    "dummies = scaler.inverse_transform(dummies)\n",
    "\n",
    "train_predictions = deepcopy(dummies[:, 0])\n",
    "train_predictions"
   ],
   "id": "5685fca92dfd41f0",
   "outputs": [
    {
     "data": {
      "text/plain": [
       "array([  0.93701017,   0.93666319,   0.93630232, ..., 139.88895235,\n",
       "       140.83794843, 140.3120824 ])"
      ]
     },
     "execution_count": 66,
     "metadata": {},
     "output_type": "execute_result"
    }
   ],
   "execution_count": 66
  },
  {
   "metadata": {
    "ExecuteTime": {
     "end_time": "2025-01-05T22:30:43.479471Z",
     "start_time": "2025-01-05T22:30:43.470986Z"
    }
   },
   "cell_type": "code",
   "source": [
    "dummies = np.zeros((x_train.shape[0], n+1))\n",
    "dummies[:, 0] = y_train.flatten()\n",
    "dummies = scaler.inverse_transform(dummies)\n",
    "\n",
    "new_y_train = deepcopy(dummies[:, 0])\n",
    "new_y_train"
   ],
   "id": "f8728ea160d55400",
   "outputs": [
    {
     "data": {
      "text/plain": [
       "array([7.91676298e-02, 7.65652259e-02, 7.52605541e-02, ...,\n",
       "       1.40570007e+02, 1.37669999e+02, 1.35070008e+02])"
      ]
     },
     "execution_count": 67,
     "metadata": {},
     "output_type": "execute_result"
    }
   ],
   "execution_count": 67
  },
  {
   "metadata": {
    "ExecuteTime": {
     "end_time": "2025-01-05T22:30:55.792431Z",
     "start_time": "2025-01-05T22:30:55.587201Z"
    }
   },
   "cell_type": "code",
   "source": [
    "plt.plot(new_y_train, label='Actual Close')\n",
    "plt.plot(train_predictions, label='Predicted Close')\n",
    "plt.xlabel('Day')\n",
    "plt.ylabel('Close')\n",
    "plt.legend()\n",
    "plt.show()"
   ],
   "id": "69d9046627e19477",
   "outputs": [
    {
     "data": {
      "text/plain": [
       "<Figure size 640x480 with 1 Axes>"
      ],
      "image/png": "[encoded data removed]"
     },
     "metadata": {},
     "output_type": "display_data"
    }
   ],
   "execution_count": 68
  },
  {
   "metadata": {
    "ExecuteTime": {
     "end_time": "2025-01-05T22:32:25.955018Z",
     "start_time": "2025-01-05T22:32:25.941935Z"
    }
   },
   "cell_type": "code",
   "source": [
    "test_predictions = model(x_test.to(device)).detach().cpu().numpy().flatten()\n",
    "\n",
    "dummies = np.zeros((x_test.shape[0], n+1))\n",
    "dummies[:, 0] = test_predictions\n",
    "dummies = scaler.inverse_transform(dummies)\n",
    "\n",
    "test_predictions = deepcopy(dummies[:, 0])\n",
    "test_predictions"
   ],
   "id": "799c16fe2a18613c",
   "outputs": [
    {
     "data": {
      "text/plain": [
       "array([138.99505783, 137.75213585, 136.66902922, 136.2841441 ,\n",
       "       135.89094168, 135.91066097, 134.92194874, 134.67277377,\n",
       "       134.52759433, 134.98218918, 135.33813905, 136.51218408,\n",
       "       137.41120706, 137.92477585, 137.6586922 , 138.20244888,\n",
       "       138.6969542 , 140.51715877, 141.25219561, 142.82975898,\n",
       "       144.04436681, 143.70056496, 143.17655879, 142.07320199,\n",
       "       140.33979974, 137.26789094, 134.7149223 , 133.52968694,\n",
       "       131.20493524, 129.43558858, 128.25493692, 127.84668567,\n",
       "       128.50022563, 127.52393207, 127.39273968, 127.20114724,\n",
       "       127.66459027, 128.12120112, 128.78875242, 129.9573324 ,\n",
       "       131.14542346, 131.14505913, 131.99895643, 132.26802417,\n",
       "       131.38668713, 130.73627005, 129.19062604, 128.43613363,\n",
       "       128.62126517, 126.44649174, 124.23519445, 125.3057332 ,\n",
       "       127.75595199, 129.78432458, 132.41290867, 134.66417889,\n",
       "       136.70773911, 138.59228899, 140.60691048, 141.76060818,\n",
       "       142.12234926, 143.11995824, 143.57558712, 144.8119441 ,\n",
       "       144.95987168, 144.80781496, 145.42114951, 146.23144093,\n",
       "       146.07542161, 146.77556542, 147.24311677, 147.95533573,\n",
       "       148.30228822, 148.25801266, 148.12379801, 148.36869463,\n",
       "       147.82933081, 147.98092257, 147.41348748, 147.66124327,\n",
       "       148.06891852, 147.93234436, 148.23830378, 148.95960687,\n",
       "       149.02969828, 149.86335582, 151.58813197, 152.80518953,\n",
       "       153.27549596, 154.02469682, 154.453802  , 154.7997621 ,\n",
       "       154.94333846, 154.91671066, 154.51908416, 153.70829308,\n",
       "       152.61418696, 150.69459139, 149.3920917 , 149.54719497,\n",
       "       150.34974164, 151.66995849, 153.14214879, 154.14784951,\n",
       "       154.62151478, 154.53745367, 154.81225364, 155.45474899,\n",
       "       155.70643268, 156.16039602, 156.76713781, 157.5085037 ,\n",
       "       158.46895035, 159.67631309, 159.9562346 , 159.17743573,\n",
       "       159.57379226, 162.9789302 , 165.15739904, 166.36072285,\n",
       "       167.51174875, 168.32036075, 170.01267278, 170.71906236,\n",
       "       170.04385305, 170.07884324, 169.92607866, 169.68047419,\n",
       "       168.98343938, 168.62566089, 169.74254325, 170.79155492,\n",
       "       171.41160714, 171.672139  , 171.8065202 , 172.71698682,\n",
       "       173.6512637 , 174.03235279, 173.62410155, 173.19792494,\n",
       "       173.59015926, 173.62027775, 172.82668335, 172.8644078 ,\n",
       "       173.18147775, 173.92616777, 173.65888354, 173.34388163,\n",
       "       173.46609052, 174.09701038, 174.46682933, 174.82992366,\n",
       "       175.20636312, 175.35050854, 175.73620562, 176.10397734,\n",
       "       176.41794522, 176.60254935, 177.02699101, 176.90292227,\n",
       "       177.72687111, 178.34967841, 178.8460644 , 179.25425319,\n",
       "       180.07233794, 180.18054243, 179.89157844, 179.52157906,\n",
       "       178.90904258, 178.06319191, 176.56758692, 175.80379178,\n",
       "       175.7538395 , 175.20444081, 174.19425701, 174.64082952,\n",
       "       175.32433182, 174.80285172, 175.06844959, 176.30773515,\n",
       "       177.55228798, 178.92275551, 179.78880777, 180.27461759,\n",
       "       181.03104966, 181.19974095, 181.04177851, 180.98344996,\n",
       "       180.71292487, 180.11454546, 179.85533909, 179.43997461,\n",
       "       179.09311928, 178.85124145, 178.29330687, 177.83620677,\n",
       "       177.80678226, 177.73307524, 177.21369094, 176.29263427,\n",
       "       175.95205247, 175.95575135, 176.3026969 , 177.17757651,\n",
       "       177.7055661 , 178.61761498, 179.41438084, 179.89325785,\n",
       "       179.73462919, 179.54405689, 179.39896767, 179.09420882,\n",
       "       179.33510814, 180.0015248 , 179.91831033, 180.03614718,\n",
       "       181.2987017 , 182.82915809, 183.27874938, 184.06943603,\n",
       "       185.0056144 , 185.43728728, 186.04708256, 186.28747529,\n",
       "       186.37858024, 186.60721704, 186.10052553, 185.59379238,\n",
       "       185.0527769 , 184.63198554, 183.59718647, 182.14358774,\n",
       "       180.92329626, 180.0024339 , 179.9284493 , 178.96445643,\n",
       "       177.99153906, 177.87778278, 178.02881936, 177.87722066,\n",
       "       178.66811549, 178.69041289, 175.87708241, 172.22644409,\n",
       "       169.49299007, 167.51673842, 166.67716822, 166.09908063,\n",
       "       165.71181517, 166.74410205, 167.73407038, 170.02263131,\n",
       "       171.60977847, 172.87225665, 173.92076171, 174.93713576,\n",
       "       174.85708582, 174.95298614, 174.55297931, 173.78209869,\n",
       "       172.68529995, 172.09204902, 172.90475547, 173.1959263 ,\n",
       "       172.7516092 , 173.37764349, 172.67191319, 172.95497839,\n",
       "       173.99485736, 175.49248875, 177.07936526, 178.20976624,\n",
       "       178.65807368, 179.50456281, 179.98485553, 180.77827644,\n",
       "       181.51980193, 182.32596421, 182.93952083, 183.21942152,\n",
       "       183.19965019, 182.74530516, 182.08777832, 181.37662114,\n",
       "       180.71767165, 179.73882774, 179.76493505, 178.87172064,\n",
       "       178.55078525, 178.80619557, 179.25897222, 179.94202343,\n",
       "       180.30756056, 180.48422561, 180.64834361, 180.83213579,\n",
       "       181.14980256, 181.36016701, 181.5525714 , 180.94817524,\n",
       "       180.74989288, 180.88817422, 181.04878765, 181.49622068,\n",
       "       182.10587717, 181.5721276 , 182.9944489 , 183.74861861,\n",
       "       184.69331899, 186.33871835, 187.77788241, 188.52928317,\n",
       "       189.05181117, 189.49690552, 190.4127782 , 190.7470379 ,\n",
       "       189.92818977, 189.21157795, 189.09909859, 188.83479845,\n",
       "       188.04152328, 187.1889827 , 187.13247236, 187.9868381 ,\n",
       "       188.33579617, 188.72970991, 189.36638976, 190.17523771,\n",
       "       191.21970384, 192.09641555, 193.13225558, 193.81093476,\n",
       "       194.16807479, 194.81169439, 195.16523963, 195.24446375,\n",
       "       195.68519299, 195.81342558, 195.12546102, 194.90673418,\n",
       "       194.8784339 , 194.84304121, 195.10524555, 195.05976247,\n",
       "       194.76133267, 194.50998903, 194.18250252, 194.01472727])"
      ]
     },
     "execution_count": 69,
     "metadata": {},
     "output_type": "execute_result"
    }
   ],
   "execution_count": 69
  },
  {
   "metadata": {
    "ExecuteTime": {
     "end_time": "2025-01-05T22:33:02.644865Z",
     "start_time": "2025-01-05T22:33:02.638373Z"
    }
   },
   "cell_type": "code",
   "source": [
    "dummies = np.zeros((x_test.shape[0], n+1))\n",
    "dummies[:, 0] = y_test.flatten()\n",
    "dummies = scaler.inverse_transform(dummies)\n",
    "\n",
    "new_y_test = deepcopy(dummies[:, 0])\n",
    "new_y_test"
   ],
   "id": "89185ad00bba9221",
   "outputs": [
    {
     "data": {
      "text/plain": [
       "array([133.9799965 , 133.22000087, 134.67999283, 134.24999937,\n",
       "       135.52000371, 131.83999639, 133.25999461, 133.1399995 ,\n",
       "       134.9100037 , 135.07000817, 138.00999417, 138.11999432,\n",
       "       137.27000409, 135.36000098, 137.85000532, 138.22999619,\n",
       "       143.10000648, 141.22999537, 144.85000686, 144.72000117,\n",
       "       140.39000011, 139.97999658, 137.63000503, 135.28999284,\n",
       "       129.33000211, 129.11999506, 131.27000401, 125.98000304,\n",
       "       125.98000304, 125.98000304, 127.12000255, 129.46000694,\n",
       "       124.72000148, 126.99999963, 125.95999923, 127.95999868,\n",
       "       128.25999426, 129.479996  , 131.83000143, 132.33000129,\n",
       "       129.78999349, 132.55000331, 131.47000048, 128.13000505,\n",
       "       128.39999404, 125.16999788, 126.55999733, 128.55999764,\n",
       "       121.38999927, 119.56999964, 127.73999752, 132.71000604,\n",
       "       133.08999692, 136.99999948, 138.07000734, 138.60000598,\n",
       "       139.74000463, 142.71000676, 142.08000121, 140.60000543,\n",
       "       143.55999698, 142.58999604, 145.800004  , 143.19999778,\n",
       "       142.83000187, 145.17999341, 146.13000616, 143.89999411,\n",
       "       146.71000566, 146.74000617, 147.72999531, 147.02999724,\n",
       "       146.32000594, 146.08999507, 147.02999724, 144.83999628,\n",
       "       146.88000509, 144.5200047 , 146.88000509, 147.41999696,\n",
       "       145.8899986 , 147.47999452, 148.83999692, 147.41999696,\n",
       "       149.97000233, 154.07000641, 153.78999469, 152.11999393,\n",
       "       153.83999554, 153.41999878, 153.41000208, 153.33999741,\n",
       "       153.38000504, 151.94000127, 149.92999124, 148.47000101,\n",
       "       144.57000729, 145.24000485, 149.10000483, 151.36999501,\n",
       "       153.72999713, 155.17999413, 154.61999498, 153.16000475,\n",
       "       151.71000775, 153.50000014, 155.33999686, 154.77999771,\n",
       "       156.020005  , 156.86999523, 157.74999984, 159.11999547,\n",
       "       161.25999384, 159.00000037, 155.19999794, 159.27999821,\n",
       "       171.80999701, 170.30999916, 169.14999323, 170.52999945,\n",
       "       169.8399946 , 174.44999698, 172.33999565, 168.63999841,\n",
       "       170.97999672, 169.80000433, 169.50999591, 167.080003  ,\n",
       "       168.58999755, 174.58000267, 174.99000273, 174.72999829,\n",
       "       173.53999185, 173.16000271, 176.75999131, 178.22000236,\n",
       "       177.57999837, 174.11999481, 173.50999481, 176.82000622,\n",
       "       175.35000888, 171.96000651, 175.39000262, 176.55999484,\n",
       "       178.74999753, 174.41999647, 174.47999402, 175.89999051,\n",
       "       178.14999423, 178.14999423, 178.86999264, 179.71000698,\n",
       "       178.30000373, 179.83000209, 180.38000454, 180.97000074,\n",
       "       180.69000289, 182.4100045 , 179.99999805, 185.07000828,\n",
       "       185.19000339, 185.66999771, 185.94999555, 189.0499999 ,\n",
       "       186.13000556, 183.6199974 , 183.32000616, 181.27999909,\n",
       "       179.21999862, 174.63000352, 177.2299924 , 179.5399902 ,\n",
       "       176.58999535, 173.66999754, 179.61999851, 180.9600075 ,\n",
       "       175.0000029 , 179.0000018 , 184.72000231, 186.21000693,\n",
       "       188.69999392, 188.75999495, 188.00000279, 189.50000064,\n",
       "       187.47999391, 186.57000613, 187.07000773, 185.99000317,\n",
       "       183.63000451, 184.69999502, 183.53999604, 183.14999632,\n",
       "       183.13000292, 181.0500021 , 180.74999698, 182.14999312,\n",
       "       182.02000478, 179.32000726, 176.43999973, 178.33999747,\n",
       "       179.33999372, 181.27999909, 185.00000015, 184.30000207,\n",
       "       187.06000062, 187.22999658, 186.88999772, 183.83000099,\n",
       "       183.66000503, 184.05999798, 182.80999745, 186.10000505,\n",
       "       189.08000041, 185.57000988, 186.33999527, 193.61000142,\n",
       "       197.85000442, 193.25000221, 197.20000026, 199.99999949,\n",
       "       197.58999304, 199.99999949, 199.2899943 , 199.33999516,\n",
       "       199.7899959 , 195.05000519, 194.49000257, 192.7200001 ,\n",
       "       193.02000523, 187.92999466, 183.74999962, 183.13000292,\n",
       "       182.54999995, 186.4100034 , 180.83000529, 179.85000937,\n",
       "       182.4999991 , 183.19999717, 181.71000643, 186.97999231,\n",
       "       184.07000509, 167.89999271, 161.02000363, 161.9299914 ,\n",
       "       162.77000575, 165.80000196, 166.94000408, 166.80000169,\n",
       "       170.22999432, 170.10000598, 177.58999854, 177.05999643,\n",
       "       178.22000236, 178.88000669, 180.10999993, 176.13000831,\n",
       "       177.03999609, 175.49999756, 173.11999509, 170.80000406,\n",
       "       172.11999537, 178.5000002 , 176.25000342, 173.33000215,\n",
       "       177.88999673, 171.39000025, 175.39999585, 179.55000425,\n",
       "       184.52000583, 186.9999996 , 186.49000477, 184.88999827,\n",
       "       186.88000449, 186.42998986, 189.86999308, 191.60000874,\n",
       "       193.88000603, 193.9600074 , 192.52999686, 191.16000123,\n",
       "       187.97000228, 186.33000204, 185.13000237, 184.75999605,\n",
       "       181.96000376, 186.50999123, 180.80000477, 182.72000286,\n",
       "       185.16999611, 186.64999362, 188.82000985, 187.53999494,\n",
       "       187.69000444, 186.88999772, 187.53000171, 188.99000581,\n",
       "       189.07000718, 189.69999712, 184.71000907, 186.38000289,\n",
       "       187.82999989, 188.39000251, 190.83000253, 192.72999333,\n",
       "       186.39999629, 197.9299919 , 195.77999683, 199.49999789,\n",
       "       207.08999563, 210.05000453, 208.17999342, 206.8399983 ,\n",
       "       208.91000588, 214.10000428, 211.47999424, 202.61000241,\n",
       "       201.69999381, 204.61000186, 202.88000702, 198.38000653,\n",
       "       197.11999195, 201.44999649, 207.86000183, 205.74000728,\n",
       "       207.89000235, 210.71000886, 213.43999995, 218.1600042 ,\n",
       "       220.55000337, 227.02999604, 226.08999387, 225.03998982,\n",
       "       230.25999567, 228.9700014 , 227.46000338, 232.92999268,\n",
       "       231.14999698, 220.52000286, 223.28999464, 224.91999471,\n",
       "       225.0599971 , 229.05000277, 227.05000332, 223.75000249,\n",
       "       221.3000023 , 219.38999744, 220.22000468, 224.19000306])"
      ]
     },
     "execution_count": 70,
     "metadata": {},
     "output_type": "execute_result"
    }
   ],
   "execution_count": 70
  },
  {
   "metadata": {
    "ExecuteTime": {
     "end_time": "2025-01-05T22:33:13.989333Z",
     "start_time": "2025-01-05T22:33:13.778711Z"
    }
   },
   "cell_type": "code",
   "source": [
    "plt.plot(new_y_test, label='Actual Close')\n",
    "plt.plot(test_predictions, label='Predicted Close')\n",
    "plt.xlabel('Day')\n",
    "plt.ylabel('Close')\n",
    "plt.legend()\n",
    "plt.show()\n"
   ],
   "id": "4d476f727ec71ff0",
   "outputs": [
    {
     "data": {
      "text/plain": [
       "<Figure size 640x480 with 1 Axes>"
      ],
      "image/png": "[encoded data removed]"
     },
     "metadata": {},
     "output_type": "display_data"
    }
   ],
   "execution_count": 71
  }
 ],
 "metadata": {
  "kernelspec": {
   "display_name": "Python 3",
   "language": "python",
   "name": "python3"
  },
  "language_info": {
   "codemirror_mode": {
    "name": "ipython",
    "version": 2
   },
   "file_extension": ".py",
   "mimetype": "text/x-python",
   "name": "python",
   "nbconvert_exporter": "python",
   "pygments_lexer": "ipython2",
   "version": "2.7.6"
  }
 },
 "nbformat": 4,
 "nbformat_minor": 5
}
